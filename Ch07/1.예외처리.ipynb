{
 "cells": [
  {
   "cell_type": "code",
   "execution_count": 1,
   "metadata": {},
   "outputs": [
    {
     "data": {
      "text/plain": [
       "'\\n날짜 : 2023/01/12\\n이름 : 윤사랑 \\n내용 : 파이썬 예외처리 실습하기\\n'"
      ]
     },
     "execution_count": 1,
     "metadata": {},
     "output_type": "execute_result"
    }
   ],
   "source": [
    "\"\"\"\n",
    "날짜 : 2023/01/12\n",
    "이름 : 윤사랑 \n",
    "내용 : 파이썬 예외처리 실습하기\n",
    "\"\"\""
   ]
  },
  {
   "cell_type": "code",
   "execution_count": 4,
   "metadata": {},
   "outputs": [
    {
     "name": "stdout",
     "output_type": "stream",
     "text": [
      "r1 : 3\n",
      "r2 : -1\n",
      "r3 : 2\n",
      "r4 : 0.5\n"
     ]
    }
   ],
   "source": [
    "#try ~ except\n",
    "num1, num2 = 1, 2\n",
    "r1 = r2 = r3 = r4 = 0\n",
    "\n",
    "try:\n",
    "    r1 = num1 + num2\n",
    "    r2 = num1 - num2\n",
    "    r3 = num1 * num2\n",
    "    r4 = num1 / num2\n",
    "except:\n",
    "    print('에러발생...')\n",
    "\n",
    "print('r1 :', r1)\n",
    "print('r2 :', r2)\n",
    "print('r3 :', r3)\n",
    "print('r4 :', r4)\n",
    "\n"
   ]
  },
  {
   "cell_type": "code",
   "execution_count": null,
   "metadata": {},
   "outputs": [],
   "source": [
    "#try ~ except ~ finally\n",
    "cities = ['서울','대전','대구','부산','광주']\n",
    "\n",
    "try:\n",
    "    for i in range(10):\n",
    "        print(cities[i])\n",
    "except Exception as e:\n",
    "    print('에러 내용 :', e)\n",
    "finally:\n",
    "    print('예외처리 완료...')"
   ]
  },
  {
   "cell_type": "code",
   "execution_count": null,
   "metadata": {},
   "outputs": [],
   "source": [
    "#try ~ except ~ else\n",
    "cities = ['서울','대전','대구','부산','광주']\n",
    "result = None\n",
    "\n",
    "while True:\n",
    "\n",
    "    try:\n",
    "        print('1~5를 선택하세요.(0:종료)')\n",
    "        answer = int(input('선택 :'))\n",
    "\n",
    "        if answer == 0:\n",
    "            break\n",
    "\n",
    "        result = cities[answer-1]\n",
    "\n",
    "    except:\n",
    "        print('1~5까지만 입력하세요!!!')\n",
    "    else:\n",
    "        print('선택된 도시는 %s입니다.' % result)\n",
    "\n",
    "print('프로그램 종료...')"
   ]
  },
  {
   "cell_type": "code",
   "execution_count": null,
   "metadata": {},
   "outputs": [],
   "source": []
  }
 ],
 "metadata": {
  "kernelspec": {
   "display_name": "Python 3",
   "language": "python",
   "name": "python3"
  },
  "language_info": {
   "codemirror_mode": {
    "name": "ipython",
    "version": 3
   },
   "file_extension": ".py",
   "mimetype": "text/x-python",
   "name": "python",
   "nbconvert_exporter": "python",
   "pygments_lexer": "ipython3",
   "version": "3.11.1 (tags/v3.11.1:a7a450f, Dec  6 2022, 19:58:39) [MSC v.1934 64 bit (AMD64)]"
  },
  "orig_nbformat": 4,
  "vscode": {
   "interpreter": {
    "hash": "ca3167030a8377a7b82d5e665b459d458267ba920e721652be188ae573e682bb"
   }
  }
 },
 "nbformat": 4,
 "nbformat_minor": 2
}
