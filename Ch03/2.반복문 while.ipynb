{
 "cells": [
  {
   "cell_type": "code",
   "execution_count": 1,
   "metadata": {},
   "outputs": [
    {
     "data": {
      "text/plain": [
       "'\\n날짜 : 2023/01/03\\n이름 : 윤사랑\\n내용 : 파이썬 반복문 while 실습하기\\n'"
      ]
     },
     "execution_count": 1,
     "metadata": {},
     "output_type": "execute_result"
    }
   ],
   "source": [
    "\"\"\"\n",
    "날짜 : 2023/01/03\n",
    "이름 : 윤사랑\n",
    "내용 : 파이썬 반복문 while 실습하기\n",
    "\"\"\""
   ]
  },
  {
   "cell_type": "code",
   "execution_count": 3,
   "metadata": {},
   "outputs": [
    {
     "name": "stdout",
     "output_type": "stream",
     "text": [
      "i :  1\n",
      "i :  2\n",
      "i :  3\n",
      "i :  4\n",
      "i :  5\n"
     ]
    }
   ],
   "source": [
    "#while\n",
    "i = 1\n",
    " \n",
    "while i <= 5:\n",
    "    print('i : ', i)\n",
    "    i += 1"
   ]
  },
  {
   "cell_type": "code",
   "execution_count": 3,
   "metadata": {},
   "outputs": [
    {
     "name": "stdout",
     "output_type": "stream",
     "text": [
      "1부터 10까지 합 :  55\n"
     ]
    }
   ],
   "source": [
    "#1부터 10까지 합\n",
    "total, k = 0, 1\n",
    "\n",
    "while k <=10:\n",
    "    total += k\n",
    "    k += 1\n",
    "\n",
    "print('1부터 10까지 합 : ', total)"
   ]
  },
  {
   "cell_type": "code",
   "execution_count": 6,
   "metadata": {},
   "outputs": [
    {
     "name": "stdout",
     "output_type": "stream",
     "text": [
      "1부터 10까지 짝수합 :  30\n"
     ]
    }
   ],
   "source": [
    "#1부터 10까지 짝수합\n",
    "total, k = 0, 1\n",
    "\n",
    "while k <= 10:\n",
    "    if k % 2 == 0:\n",
    "        total += k\n",
    "\n",
    "    k += 1    \n",
    "    \n",
    "print('1부터 10까지 짝수합 : ', total)    "
   ]
  },
  {
   "cell_type": "code",
   "execution_count": 8,
   "metadata": {},
   "outputs": [
    {
     "name": "stdout",
     "output_type": "stream",
     "text": [
      "5와 7의 최소공배수 :  35\n"
     ]
    }
   ],
   "source": [
    "#break\n",
    "num = 1\n",
    "\n",
    "while True:\n",
    "\n",
    "    if num % 5 == 0 and num % 7 == 0:\n",
    "        break\n",
    "\n",
    "    num += 1\n",
    "\n",
    "print('5와 7의 최소공배수 : ', num)"
   ]
  },
  {
   "cell_type": "code",
   "execution_count": 9,
   "metadata": {},
   "outputs": [
    {
     "name": "stdout",
     "output_type": "stream",
     "text": [
      "1, 3, 5, 7, 9, 11, "
     ]
    }
   ],
   "source": [
    "#continue\n",
    "num = 0\n",
    "\n",
    "while num <= 10:\n",
    "    num += 1\n",
    "\n",
    "    if num % 2 == 0:\n",
    "        continue\n",
    "\n",
    "    print(num, end=', ')"
   ]
  }
 ],
 "metadata": {
  "kernelspec": {
   "display_name": "Python 3",
   "language": "python",
   "name": "python3"
  },
  "language_info": {
   "codemirror_mode": {
    "name": "ipython",
    "version": 3
   },
   "file_extension": ".py",
   "mimetype": "text/x-python",
   "name": "python",
   "nbconvert_exporter": "python",
   "pygments_lexer": "ipython3",
   "version": "3.11.1"
  },
  "orig_nbformat": 4,
  "vscode": {
   "interpreter": {
    "hash": "ca3167030a8377a7b82d5e665b459d458267ba920e721652be188ae573e682bb"
   }
  }
 },
 "nbformat": 4,
 "nbformat_minor": 2
}
