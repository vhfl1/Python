{
 "cells": [
  {
   "cell_type": "code",
   "execution_count": 1,
   "metadata": {},
   "outputs": [
    {
     "data": {
      "text/plain": [
       "'\\n날짜 : 2023/01/09\\n이름 : 윤사랑\\n내용 : 파이썬 딕셔너리 실습하기\\n'"
      ]
     },
     "execution_count": 1,
     "metadata": {},
     "output_type": "execute_result"
    }
   ],
   "source": [
    "\"\"\"\n",
    "날짜 : 2023/01/09\n",
    "이름 : 윤사랑\n",
    "내용 : 파이썬 딕셔너리 실습하기\n",
    "\"\"\""
   ]
  },
  {
   "cell_type": "code",
   "execution_count": 3,
   "metadata": {},
   "outputs": [
    {
     "name": "stdout",
     "output_type": "stream",
     "text": [
      "dataset type : <class 'dict'>\n",
      "dataset : {'A': 'Apple', 'B': 'Banana', 'C': 'Cherry'}\n",
      "dataset['A'] : Apple\n",
      "dataset['B'] : Banana\n",
      "dataset['c'] : Cherry\n"
     ]
    }
   ],
   "source": [
    "#Dictionary\n",
    "dataset = {'A':'Apple','B':'Banana','C':'Cherry'}\n",
    "\n",
    "print('dataset type :', type(dataset))\n",
    "print('dataset :', dataset)\n",
    "print(\"dataset['A'] :\", dataset['A'])\n",
    "print(\"dataset['B'] :\", dataset['B'])\n",
    "print(\"dataset['c'] :\", dataset['C'])"
   ]
  },
  {
   "cell_type": "code",
   "execution_count": 16,
   "metadata": {},
   "outputs": [
    {
     "name": "stdout",
     "output_type": "stream",
     "text": [
      "3\n",
      "7\n",
      "부산\n",
      "김춘추\n"
     ]
    }
   ],
   "source": [
    "#딕셔너리 활용\n",
    "dataset = {\n",
    "    101: [1,2,3,4,5],\n",
    "    102: (6,7,8,9),\n",
    "    103: {'서울','대전','대구','부산','광주'},\n",
    "    104: {'p1':'김유신', 'p2':'김춘추', 'p3':'장보고'}\n",
    "}\n",
    "\n",
    "print(dataset[101][2])\n",
    "print(dataset[102][1])\n",
    "print(list(dataset[103])[0])\n",
    "print(dataset[104]['p2'])\n"
   ]
  },
  {
   "cell_type": "code",
   "execution_count": 17,
   "metadata": {},
   "outputs": [
    {
     "name": "stdout",
     "output_type": "stream",
     "text": [
      "1 서울\n",
      "2 대전\n",
      "3 대구\n",
      "4 부산\n",
      "5 광주\n"
     ]
    }
   ],
   "source": [
    "#딕셔너리 반복문\n",
    "dataset = {1:'서울', 2:'대전', 3:'대구', 4:'부산', 5:'광주'}\n",
    "\n",
    "for k, v in dataset.items():\n",
    "    print(k, v)"
   ]
  }
 ],
 "metadata": {
  "kernelspec": {
   "display_name": "Python 3",
   "language": "python",
   "name": "python3"
  },
  "language_info": {
   "codemirror_mode": {
    "name": "ipython",
    "version": 3
   },
   "file_extension": ".py",
   "mimetype": "text/x-python",
   "name": "python",
   "nbconvert_exporter": "python",
   "pygments_lexer": "ipython3",
   "version": "3.11.1 (tags/v3.11.1:a7a450f, Dec  6 2022, 19:58:39) [MSC v.1934 64 bit (AMD64)]"
  },
  "orig_nbformat": 4,
  "vscode": {
   "interpreter": {
    "hash": "ca3167030a8377a7b82d5e665b459d458267ba920e721652be188ae573e682bb"
   }
  }
 },
 "nbformat": 4,
 "nbformat_minor": 2
}
