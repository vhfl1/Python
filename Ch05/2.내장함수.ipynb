{
 "cells": [
  {
   "cell_type": "code",
   "execution_count": 5,
   "metadata": {},
   "outputs": [],
   "source": [
    "\"\"\"\n",
    "날짜 : 2023/01/10\n",
    "이름 : 윤사랑\n",
    "내용 : 파이썬 내장함수 실습하기\n",
    "\"\"\"\n",
    "import time\n",
    "import math\n",
    "import random"
   ]
  },
  {
   "cell_type": "code",
   "execution_count": 7,
   "metadata": {},
   "outputs": [
    {
     "name": "stdout",
     "output_type": "stream",
     "text": [
      "t1 : 1673321696.3163285\n",
      "t2 : Tue Jan 10 12:34:56 2023\n",
      "2023년 01월 10일 12:34:56\n"
     ]
    }
   ],
   "source": [
    "#시간 관련 함수\n",
    "t1 = time.time() #Unix time\n",
    "print('t1 :', t1)\n",
    "\n",
    "t2 = time.ctime() #변환된 Unix time\n",
    "print('t2 :', t2)\n",
    "\n",
    "now = time.localtime(time.time())\n",
    "year = time.strftime('%Y', now)\n",
    "mon = time.strftime('%m', now)\n",
    "date = time.strftime('%d', now)\n",
    "hour = time.strftime('%H', now)\n",
    "min = time.strftime('%M', now)\n",
    "sec = time.strftime('%S', now)\n",
    "\n",
    "print('{}년 {}월 {}일 {}:{}:{}'.format(year, mon, date, hour, min, sec))"
   ]
  },
  {
   "cell_type": "code",
   "execution_count": 9,
   "metadata": {},
   "outputs": [
    {
     "name": "stdout",
     "output_type": "stream",
     "text": [
      "r1 : 2\n",
      "r2 : 2\n",
      "r3 : 1\n",
      "r4 : 1\n",
      "r5 : 1\n",
      "r6 : 2\n",
      "r7 : 3.0\n"
     ]
    }
   ],
   "source": [
    "#수학 관련 함수\n",
    "r1 = math.ceil(1.2)\n",
    "r2 = math.ceil(1.8)\n",
    "r3 = math.floor(1.2)\n",
    "r4 = math.floor(1.8)\n",
    "r5 = round(1.2)\n",
    "r6 = round(1.8)\n",
    "r7 = math.sqrt(9)\n",
    "\n",
    "print('r1 :', r1)\n",
    "print('r2 :', r2)\n",
    "print('r3 :', r3)\n",
    "print('r4 :', r4)\n",
    "print('r5 :', r5)\n",
    "print('r6 :', r6)\n",
    "print('r7 :', r7)"
   ]
  },
  {
   "cell_type": "code",
   "execution_count": 12,
   "metadata": {},
   "outputs": [
    {
     "name": "stdout",
     "output_type": "stream",
     "text": [
      "n1 : 0.17033651545138528\n",
      "n2 : 1.7033651545138528\n",
      "n3 : 2\n",
      "rand : 3\n"
     ]
    }
   ],
   "source": [
    "#random\n",
    "n1 = random.random()\n",
    "print('n1 :', n1)\n",
    "\n",
    "n2 = n1 * 10\n",
    "print('n2 :', n2)\n",
    "\n",
    "n3 = math.ceil(n2)\n",
    "print('n3 :', n3)\n",
    "\n",
    "rand = math.ceil(random.random() * 10)\n",
    "print('rand :', rand)"
   ]
  }
 ],
 "metadata": {
  "kernelspec": {
   "display_name": "Python 3",
   "language": "python",
   "name": "python3"
  },
  "language_info": {
   "codemirror_mode": {
    "name": "ipython",
    "version": 3
   },
   "file_extension": ".py",
   "mimetype": "text/x-python",
   "name": "python",
   "nbconvert_exporter": "python",
   "pygments_lexer": "ipython3",
   "version": "3.11.1 (tags/v3.11.1:a7a450f, Dec  6 2022, 19:58:39) [MSC v.1934 64 bit (AMD64)]"
  },
  "orig_nbformat": 4,
  "vscode": {
   "interpreter": {
    "hash": "ca3167030a8377a7b82d5e665b459d458267ba920e721652be188ae573e682bb"
   }
  }
 },
 "nbformat": 4,
 "nbformat_minor": 2
}
